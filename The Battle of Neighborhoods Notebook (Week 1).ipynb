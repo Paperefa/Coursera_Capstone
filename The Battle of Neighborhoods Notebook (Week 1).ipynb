{
    "cells": [
        {
            "cell_type": "markdown",
            "metadata": {
                "collapsed": true
            },
            "source": "<h1 align=center><font size = 6>Capstone Project - The Battle of Neighborhoods (Week 1)</font></h1>"
        },
        {
            "cell_type": "markdown",
            "metadata": {},
            "source": "## Introduction/Business Problem section"
        },
        {
            "cell_type": "markdown",
            "metadata": {},
            "source": "Due to the **Covid-19 crisis**, many businesses have had to close. I have been able to appreciate this horrible situation especially in the neighborhood where I live. \n\nWhen the novel coronavirus pandemic initially hit back in March and politicians ordered all restaurants and bars to close to in-room dining, a panic soared throughout the hospitality industry. Thousands of establishments shut their doors immediately for indoor dining, leaving countless people out of work. Many questions arose: When could restaurants fully reopen? How many might not return? What would the landscape look like with so much restaurant vacancy?\n\nI'm going to analyze the number of food businesses in the area where I live to see if it would be a good business opportunity to open a restaurant at this moment. It is a good way to revive the economy and bring the neighborhood back to life."
        },
        {
            "cell_type": "markdown",
            "metadata": {},
            "source": "## Data section"
        },
        {
            "cell_type": "markdown",
            "metadata": {},
            "source": "I am going to check the restaurants in my neighborhoods and analyze the most surrounding areas to conclude if there are business opportunities for food places at the moment.\n\nBased on definition of our problem, factors that will influence our decission are:\n* number of existing restaurants in the neighborhood (any type of restaurant)\n* number of and distance to different sports centers in the neighborhood, if any\n\nI will import the coordinates of my neighborhood and visualize using **Foursquare API** the restaurants and bars that are nearby. Also,I wil show the different sport centers as it is very typical to have a drink after doing sports with friends. I'm gonna use Folium for the graphics."
        }
    ],
    "metadata": {
        "kernelspec": {
            "display_name": "Python 3.6",
            "language": "python",
            "name": "python3"
        },
        "language_info": {
            "codemirror_mode": {
                "name": "ipython",
                "version": 3
            },
            "file_extension": ".py",
            "mimetype": "text/x-python",
            "name": "python",
            "nbconvert_exporter": "python",
            "pygments_lexer": "ipython3",
            "version": "3.6.9"
        }
    },
    "nbformat": 4,
    "nbformat_minor": 1
}