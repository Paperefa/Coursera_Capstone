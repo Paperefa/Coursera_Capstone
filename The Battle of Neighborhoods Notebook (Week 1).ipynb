{
    "cells": [
        {
            "cell_type": "markdown",
            "metadata": {
                "collapsed": true
            },
            "source": "<h1 align=center><font size = 6>Capstone Project - The Battle of Neighborhoods (Week 1)</font></h1>"
        },
        {
            "cell_type": "markdown",
            "metadata": {},
            "source": "## Introduction/Business Problem section"
        },
        {
            "cell_type": "markdown",
            "metadata": {},
            "source": "Due to the covid-19 crisis, many businesses have had to close. I have been able to appreciate this horrible situation especially in the neighborhood where I live. I'm going to analyze the number of food businesses in the area where I live to see if it would be a good business opportunity to open a restaurant. It is a good way to revive the economy and bring the neighborhood back to life."
        },
        {
            "cell_type": "markdown",
            "metadata": {},
            "source": "## Data section"
        },
        {
            "cell_type": "markdown",
            "metadata": {},
            "source": "I am going to check the neighborhoods of my city to analyze the most surrounding areas and conclude if there are business opportunities for food places at the moment."
        }
    ],
    "metadata": {
        "kernelspec": {
            "display_name": "Python 3.6",
            "language": "python",
            "name": "python3"
        },
        "language_info": {
            "codemirror_mode": {
                "name": "ipython",
                "version": 3
            },
            "file_extension": ".py",
            "mimetype": "text/x-python",
            "name": "python",
            "nbconvert_exporter": "python",
            "pygments_lexer": "ipython3",
            "version": "3.6.9"
        }
    },
    "nbformat": 4,
    "nbformat_minor": 1
}